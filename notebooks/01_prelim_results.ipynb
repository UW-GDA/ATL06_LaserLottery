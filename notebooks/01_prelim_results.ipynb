{
 "cells": [
  {
   "cell_type": "markdown",
   "metadata": {},
   "source": [
    "> NOTE\n",
    "> All plot outputs are collapsed to save space. Above each plotting cell, the relative path to the respective image is provided."
   ]
  },
  {
   "cell_type": "code",
   "execution_count": 1,
   "metadata": {},
   "outputs": [
    {
     "name": "stderr",
     "output_type": "stream",
     "text": [
      "/home/jehayes/mambaforge/envs/coincident/lib/python3.12/site-packages/coincident/search/main.py:14: UserWarning: Unable to authenticate with Maxar API. Please set MAXAR_API_KEY environment variable.\n",
      "  from coincident.search import neon_api, opentopo_api, stac, wesm\n"
     ]
    }
   ],
   "source": [
    "import geopandas as gpd\n",
    "import matplotlib.pyplot as plt\n",
    "import numpy as np\n",
    "import easysnowdata as esd\n",
    "import coincident\n",
    "import matplotlib.patches as mpatches\n",
    "import matplotlib.colors as mcolors\n",
    "from matplotlib_scalebar.scalebar import ScaleBar\n",
    "import xarray as xr\n",
    "import rioxarray as rxr\n",
    "import xdem\n",
    "from shapely.geometry import box\n",
    "from tqdm import tqdm\n",
    "import sys\n",
    "import os\n",
    "sys.path.append(os.path.abspath('/home/jehayes/gda_final/ATL06_LaserLottery/misc'))\n",
    "from nlcd_plot import nlcd_labels, nlcd_colors\n",
    "import sr_wrapper\n",
    "import stac_helper\n",
    "%load_ext autoreload\n",
    "%autoreload 2"
   ]
  },
  {
   "cell_type": "markdown",
   "metadata": {},
   "source": [
    "Grab our USGS 3DEP site of interest"
   ]
  },
  {
   "cell_type": "code",
   "execution_count": 2,
   "metadata": {},
   "outputs": [],
   "source": [
    "gf_flights = gpd.read_file(\"/home/jehayes/gda_final/ATL06_LaserLottery/test_data/wesm_2021_bboxes_30d_esa.geojson\")\n",
    "aoi = gf_flights.iloc[[0]]\n",
    "gf_wesm = coincident.search.wesm.load_by_fid(fids=aoi.fid.values)"
   ]
  },
  {
   "cell_type": "code",
   "execution_count": 3,
   "metadata": {},
   "outputs": [
    {
     "data": {
      "text/html": [
       "<div>\n",
       "<style scoped>\n",
       "    .dataframe tbody tr th:only-of-type {\n",
       "        vertical-align: middle;\n",
       "    }\n",
       "\n",
       "    .dataframe tbody tr th {\n",
       "        vertical-align: top;\n",
       "    }\n",
       "\n",
       "    .dataframe thead th {\n",
       "        text-align: right;\n",
       "    }\n",
       "</style>\n",
       "<table border=\"1\" class=\"dataframe\">\n",
       "  <thead>\n",
       "    <tr style=\"text-align: right;\">\n",
       "      <th></th>\n",
       "      <th>workunit</th>\n",
       "      <th>workunit_id</th>\n",
       "      <th>project</th>\n",
       "      <th>project_id</th>\n",
       "      <th>start_datetime</th>\n",
       "      <th>end_datetime</th>\n",
       "      <th>ql</th>\n",
       "      <th>spec</th>\n",
       "      <th>p_method</th>\n",
       "      <th>dem_gsd_meters</th>\n",
       "      <th>...</th>\n",
       "      <th>seamless_category</th>\n",
       "      <th>seamless_reason</th>\n",
       "      <th>lpc_link</th>\n",
       "      <th>sourcedem_link</th>\n",
       "      <th>metadata_link</th>\n",
       "      <th>geometry</th>\n",
       "      <th>collection</th>\n",
       "      <th>datetime</th>\n",
       "      <th>dayofyear</th>\n",
       "      <th>duration</th>\n",
       "    </tr>\n",
       "  </thead>\n",
       "  <tbody>\n",
       "    <tr>\n",
       "      <th>0</th>\n",
       "      <td>OR_McKenzieRiver_1_2021</td>\n",
       "      <td>220421</td>\n",
       "      <td>OR_McKenzieRiver_2021_B21</td>\n",
       "      <td>220424</td>\n",
       "      <td>2021-07-04</td>\n",
       "      <td>2021-07-06</td>\n",
       "      <td>QL 1</td>\n",
       "      <td>USGS Lidar Base Specification 2.1</td>\n",
       "      <td>linear-mode lidar</td>\n",
       "      <td>0.4572</td>\n",
       "      <td>...</td>\n",
       "      <td>Meets</td>\n",
       "      <td>Meets 3DEP seamless DEM requirements</td>\n",
       "      <td>https://rockyweb.usgs.gov/vdelivery/Datasets/S...</td>\n",
       "      <td>http://prd-tnm.s3.amazonaws.com/index.html?pre...</td>\n",
       "      <td>http://prd-tnm.s3.amazonaws.com/index.html?pre...</td>\n",
       "      <td>MULTIPOLYGON (((-122.93477 44.00285, -122.9347...</td>\n",
       "      <td>3DEP</td>\n",
       "      <td>2021-07-05</td>\n",
       "      <td>186</td>\n",
       "      <td>2</td>\n",
       "    </tr>\n",
       "  </tbody>\n",
       "</table>\n",
       "<p>1 rows × 33 columns</p>\n",
       "</div>"
      ],
      "text/plain": [
       "                  workunit  workunit_id                    project  \\\n",
       "0  OR_McKenzieRiver_1_2021       220421  OR_McKenzieRiver_2021_B21   \n",
       "\n",
       "   project_id start_datetime end_datetime    ql  \\\n",
       "0      220424     2021-07-04   2021-07-06  QL 1   \n",
       "\n",
       "                                spec           p_method  dem_gsd_meters  ...  \\\n",
       "0  USGS Lidar Base Specification 2.1  linear-mode lidar          0.4572  ...   \n",
       "\n",
       "  seamless_category                       seamless_reason  \\\n",
       "0             Meets  Meets 3DEP seamless DEM requirements   \n",
       "\n",
       "                                            lpc_link  \\\n",
       "0  https://rockyweb.usgs.gov/vdelivery/Datasets/S...   \n",
       "\n",
       "                                      sourcedem_link  \\\n",
       "0  http://prd-tnm.s3.amazonaws.com/index.html?pre...   \n",
       "\n",
       "                                       metadata_link  \\\n",
       "0  http://prd-tnm.s3.amazonaws.com/index.html?pre...   \n",
       "\n",
       "                                            geometry collection   datetime  \\\n",
       "0  MULTIPOLYGON (((-122.93477 44.00285, -122.9347...       3DEP 2021-07-05   \n",
       "\n",
       "  dayofyear duration  \n",
       "0       186        2  \n",
       "\n",
       "[1 rows x 33 columns]"
      ]
     },
     "execution_count": 3,
     "metadata": {},
     "output_type": "execute_result"
    }
   ],
   "source": [
    "# yes i hardcode in a file to cherry pick a site but here's that metadata\n",
    "gf_wesm"
   ]
  },
  {
   "cell_type": "markdown",
   "metadata": {},
   "source": [
    "Get ICESat-2 tracks within +-12 days of 3DEP collection"
   ]
  },
  {
   "cell_type": "code",
   "execution_count": 3,
   "metadata": {},
   "outputs": [],
   "source": [
    "atl06_items = stac_helper.get_atl06_stac(aoi.iloc[0], window_days=12)\n",
    "gf_atl06_stac = stac_helper.to_geopandas(atl06_items[0].item_collection())"
   ]
  },
  {
   "cell_type": "code",
   "execution_count": 4,
   "metadata": {},
   "outputs": [
    {
     "data": {
      "text/html": [
       "<div>\n",
       "<style scoped>\n",
       "    .dataframe tbody tr th:only-of-type {\n",
       "        vertical-align: middle;\n",
       "    }\n",
       "\n",
       "    .dataframe tbody tr th {\n",
       "        vertical-align: top;\n",
       "    }\n",
       "\n",
       "    .dataframe thead th {\n",
       "        text-align: right;\n",
       "    }\n",
       "</style>\n",
       "<table border=\"1\" class=\"dataframe\">\n",
       "  <thead>\n",
       "    <tr style=\"text-align: right;\">\n",
       "      <th></th>\n",
       "      <th>assets</th>\n",
       "      <th>bbox</th>\n",
       "      <th>collection</th>\n",
       "      <th>geometry</th>\n",
       "      <th>id</th>\n",
       "      <th>links</th>\n",
       "      <th>stac_extensions</th>\n",
       "      <th>stac_version</th>\n",
       "      <th>type</th>\n",
       "      <th>datetime</th>\n",
       "      <th>end_datetime</th>\n",
       "      <th>start_datetime</th>\n",
       "      <th>dayofyear</th>\n",
       "    </tr>\n",
       "  </thead>\n",
       "  <tbody>\n",
       "    <tr>\n",
       "      <th>0</th>\n",
       "      <td>{'24/ATL06_20210624003626_00061202_006_01': {'...</td>\n",
       "      <td>{'xmin': -125.61423, 'ymin': 35.82996, 'xmax':...</td>\n",
       "      <td>ATL06_006</td>\n",
       "      <td>POLYGON ((-125.39382 59.54551, -125.61423 59.5...</td>\n",
       "      <td>SC:ATL06.006:272416853</td>\n",
       "      <td>[{'href': 'https://cmr.earthdata.nasa.gov/stac...</td>\n",
       "      <td>[]</td>\n",
       "      <td>1.0.0</td>\n",
       "      <td>Feature</td>\n",
       "      <td>2021-06-24 00:38:44.185000+00:00</td>\n",
       "      <td>2021-06-24 00:44:55.763000+00:00</td>\n",
       "      <td>2021-06-24 00:38:44.185000+00:00</td>\n",
       "      <td>175</td>\n",
       "    </tr>\n",
       "    <tr>\n",
       "      <th>1</th>\n",
       "      <td>{'26/ATL06_20210626124356_00441206_006_01': {'...</td>\n",
       "      <td>{'xmin': -123.56884, 'ymin': 38.12829, 'xmax':...</td>\n",
       "      <td>ATL06_006</td>\n",
       "      <td>POLYGON ((-120.15698 59.53431, -120.37752 59.5...</td>\n",
       "      <td>SC:ATL06.006:272422736</td>\n",
       "      <td>[{'href': 'https://cmr.earthdata.nasa.gov/stac...</td>\n",
       "      <td>[]</td>\n",
       "      <td>1.0.0</td>\n",
       "      <td>Feature</td>\n",
       "      <td>2021-06-26 12:43:55.642000+00:00</td>\n",
       "      <td>2021-06-26 12:49:31.271000+00:00</td>\n",
       "      <td>2021-06-26 12:43:55.642000+00:00</td>\n",
       "      <td>177</td>\n",
       "    </tr>\n",
       "  </tbody>\n",
       "</table>\n",
       "</div>"
      ],
      "text/plain": [
       "                                              assets  \\\n",
       "0  {'24/ATL06_20210624003626_00061202_006_01': {'...   \n",
       "1  {'26/ATL06_20210626124356_00441206_006_01': {'...   \n",
       "\n",
       "                                                bbox collection  \\\n",
       "0  {'xmin': -125.61423, 'ymin': 35.82996, 'xmax':...  ATL06_006   \n",
       "1  {'xmin': -123.56884, 'ymin': 38.12829, 'xmax':...  ATL06_006   \n",
       "\n",
       "                                            geometry                      id  \\\n",
       "0  POLYGON ((-125.39382 59.54551, -125.61423 59.5...  SC:ATL06.006:272416853   \n",
       "1  POLYGON ((-120.15698 59.53431, -120.37752 59.5...  SC:ATL06.006:272422736   \n",
       "\n",
       "                                               links stac_extensions  \\\n",
       "0  [{'href': 'https://cmr.earthdata.nasa.gov/stac...              []   \n",
       "1  [{'href': 'https://cmr.earthdata.nasa.gov/stac...              []   \n",
       "\n",
       "  stac_version     type                         datetime  \\\n",
       "0        1.0.0  Feature 2021-06-24 00:38:44.185000+00:00   \n",
       "1        1.0.0  Feature 2021-06-26 12:43:55.642000+00:00   \n",
       "\n",
       "                      end_datetime                   start_datetime  dayofyear  \n",
       "0 2021-06-24 00:44:55.763000+00:00 2021-06-24 00:38:44.185000+00:00        175  \n",
       "1 2021-06-26 12:49:31.271000+00:00 2021-06-26 12:43:55.642000+00:00        177  "
      ]
     },
     "execution_count": 4,
     "metadata": {},
     "output_type": "execute_result"
    }
   ],
   "source": [
    "gf_atl06_stac"
   ]
  },
  {
   "cell_type": "code",
   "execution_count": 5,
   "metadata": {},
   "outputs": [
    {
     "name": "stdout",
     "output_type": "stream",
     "text": [
      "{'poly': [{'lon': -123.06609344482422, 'lat': 44.00281524658203}, {'lon': -121.98262023925781, 'lat': 44.00281524658203}, {'lon': -121.98262023925781, 'lat': 44.35806655883789}, {'lon': -123.06609344482422, 'lat': 44.35806655883789}, {'lon': -123.06609344482422, 'lat': 44.00281524658203}], 't0': '2021-06-23T00:00:00Z', 't1': '2021-07-17T00:00:00Z', 'srt': 0, 'cnf': 4, 'ats': 10.0, 'cnt': 10, 'len': 40.0, 'res': 20.0, 'geoid': True, 'vars': ['h_mean', 'latitude', 'longitude', 'h_sigma', 'quality_summary'], 'samples': {}}\n"
     ]
    }
   ],
   "source": [
    "gf_atl06_points = sr_wrapper.get_atl06(\n",
    "    gf_atl06_stac,\n",
    "    window_start = atl06_items[1],\n",
    "    window_end = atl06_items[2],\n",
    "    aoi_geometry= aoi.iloc[0].geometry,\n",
    ")"
   ]
  },
  {
   "cell_type": "code",
   "execution_count": 6,
   "metadata": {},
   "outputs": [
    {
     "name": "stdout",
     "output_type": "stream",
     "text": [
      "CRS: EPSG:7912\n",
      "Reference Ground Tracks: [44  6]\n",
      "Cycles: [12]\n",
      "Received 4677 elevations\n"
     ]
    }
   ],
   "source": [
    "gf_wesm = gf_wesm.to_crs(gf_atl06_points.crs)\n",
    "gf_atl06_points = gf_atl06_points.clip(gf_wesm.geometry)\n",
    "print(\"CRS: {}\".format(gf_atl06_points.crs))\n",
    "print(\"Reference Ground Tracks: {}\".format(gf_atl06_points[\"rgt\"].unique()))\n",
    "print(\"Cycles: {}\".format(gf_atl06_points[\"cycle\"].unique()))\n",
    "print(\"Received {} elevations\".format(gf_atl06_points.shape[0]))"
   ]
  },
  {
   "cell_type": "markdown",
   "metadata": {},
   "source": [
    "3D CRS transformation\n",
    "\n",
    "> NOTE\n",
    "> It's better to use the specific WKT representations for 3D CRS transformations (which can be found digging through 3DEP metadata) rather than EPSG codes. We'll have a slight amount of bias in our transformation, but nothing terrible. Refer to https://uw-cryo.github.io/3D_CRS_Transformation_Resources/ for more details"
   ]
  },
  {
   "cell_type": "code",
   "execution_count": 7,
   "metadata": {},
   "outputs": [],
   "source": [
    "#!gdalinfo /mnt/c/Users/JackE/uw/courses/wint25/gda/final_data/dem_10x.tif"
   ]
  },
  {
   "cell_type": "code",
   "execution_count": 8,
   "metadata": {},
   "outputs": [],
   "source": [
    "#from osgeo import gdal\n",
    "#import os\n",
    "#\n",
    "#infile = \"/mnt/c/Users/JackE/uw/courses/wint25/gda/final_data/dem_10x.tif\"\n",
    "#src_crs = \"EPSG:6557+8228\"  # Source: NAD83(2011) / Oregon GIC Lambert (ft) + NAVD88 height (ft)\n",
    "#target_crs = \"EPSG:32610+4979\"  # Target: WGS 84 / UTM zone 10N + WGS84 3D\n",
    "#\n",
    "#base, ext = os.path.splitext(infile)\n",
    "#outfile = f\"{base}_itrf{ext}\"\n",
    "#\n",
    "#print(f\"Reprojecting:\\n  {infile}\\n  (src SRS: {src_crs})\\n-> {outfile}\\n  (target SRS: {target_crs})\\n\")\n",
    "#\n",
    "#ds_out = gdal.Warp(outfile, infile, srcSRS=src_crs, dstSRS=target_crs, format=\"GTiff\")\n",
    "#\n",
    "#if ds_out is None:\n",
    "#    print(f\"Error processing {infile}\")\n",
    "#else:\n",
    "#    ds_out = None"
   ]
  },
  {
   "cell_type": "code",
   "execution_count": 12,
   "metadata": {},
   "outputs": [],
   "source": [
    "ds_dem = xr.open_dataset(\"/mnt/c/Users/JackE/uw/courses/wint25/gda/final_data/dem_10x_itrf.tif\", \n",
    "                         engine=\"rasterio\").squeeze().rename({'band_data': 'elevation'}).rio.write_crs(32610)"
   ]
  },
  {
   "cell_type": "code",
   "execution_count": 13,
   "metadata": {},
   "outputs": [
    {
     "name": "stderr",
     "output_type": "stream",
     "text": [
      "/home/jehayes/mambaforge/envs/coincident/lib/python3.12/site-packages/coincident/plot/utils.py:102: RuntimeWarning: invalid value encountered in cast\n",
      "  return da.dims, data.astype(np.uint8)\n"
     ]
    }
   ],
   "source": [
    "ds_dem[\"hillshade\"] = coincident.plot.hillshade(ds_dem.elevation)"
   ]
  },
  {
   "cell_type": "code",
   "execution_count": 14,
   "metadata": {},
   "outputs": [],
   "source": [
    "dims = ds_dem.elevation.dims\n",
    "ds_dem['slope'] = xr.DataArray(\n",
    "    xdem.terrain.slope(ds_dem.elevation, resolution=(25, 25)),\n",
    "    dims=dims\n",
    ")\n",
    "ds_dem['aspect'] = xr.DataArray(\n",
    "    xdem.terrain.aspect(ds_dem.elevation),\n",
    "    dims=dims\n",
    ")"
   ]
  },
  {
   "cell_type": "markdown",
   "metadata": {},
   "source": [
    "images/usgs_dem.png"
   ]
  },
  {
   "cell_type": "code",
   "execution_count": null,
   "metadata": {},
   "outputs": [],
   "source": [
    "f, axs = plt.subplots(3,1,figsize=(12,18),\n",
    "                      layout='constrained')\n",
    "\n",
    "# elev\n",
    "ax=axs[0]\n",
    "ds_dem.hillshade.plot.imshow(ax=ax,\n",
    "                            cmap=\"gray\",\n",
    "                            add_colorbar=False)\n",
    "ds_dem.elevation.plot.imshow(ax=ax,\n",
    "                            cmap=\"inferno\",\n",
    "                            alpha=0.5,\n",
    "                            cbar_kwargs={'label':'Elevation (m)'})\n",
    "scalebar = ScaleBar(1, location='lower right')\n",
    "ax.add_artist(scalebar)\n",
    "ax.set_title(\"Elevation\", fontsize=18)\n",
    "\n",
    "# slope\n",
    "ax=axs[1]\n",
    "ds_dem.hillshade.plot.imshow(ax=ax,\n",
    "                            cmap=\"gray\",\n",
    "                            add_colorbar=False)\n",
    "ds_dem.slope.plot.imshow(ax=ax,\n",
    "                     cmap=\"viridis\",\n",
    "                     alpha=0.5,\n",
    "                     vmax=45,\n",
    "                     cbar_kwargs={'label':'Slope (degrees)'})\n",
    "ax.set_title(\"Slope\", fontsize=18)\n",
    "\n",
    "# aspect\n",
    "ax=axs[2]\n",
    "ds_dem.hillshade.plot.imshow(ax=ax,\n",
    "                            cmap=\"gray\",\n",
    "                            add_colorbar=False)\n",
    "ds_dem.aspect.plot.imshow(ax=ax,\n",
    "                            cmap=\"twilight\",\n",
    "                            alpha=0.5,\n",
    "                            cbar_kwargs={'label':'Aspect (degrees)'})\n",
    "ax.set_title(\"Aspect\", fontsize=18)\n",
    "\n",
    "for ax in axs:\n",
    "       ax.set_aspect('equal')\n",
    "       ax.set(xticks=[], yticks=[], \n",
    "              xlabel=\"\", ylabel=\"\", \n",
    "              frame_on=False)\n",
    "       \n",
    "plt.suptitle(\"USGS 3DEP DEM (resampled to 10m)\", fontsize=22);"
   ]
  },
  {
   "cell_type": "code",
   "execution_count": 16,
   "metadata": {},
   "outputs": [],
   "source": [
    "elev_data = ds_dem.elevation.values.flatten()\n",
    "slope_data = ds_dem.slope.values.flatten()\n",
    "aspect_data = ds_dem.aspect.values.flatten()"
   ]
  },
  {
   "cell_type": "markdown",
   "metadata": {},
   "source": [
    "images/usgs_hist.png"
   ]
  },
  {
   "cell_type": "code",
   "execution_count": null,
   "metadata": {},
   "outputs": [],
   "source": [
    "f, axs = plt.subplots(3,1,figsize=(8,24), layout='constrained')\n",
    "\n",
    "# Get middle colors from colormaps\n",
    "inferno_mid = plt.cm.inferno(0.5)\n",
    "viridis_mid = plt.cm.viridis(0.5)\n",
    "twilight_mid = plt.cm.twilight(0.5)\n",
    "\n",
    "# Elevation histogram\n",
    "ax = axs[0]\n",
    "ax.hist(elev_data, bins=256, color=inferno_mid, alpha=0.7)\n",
    "ax.axvline(np.nanmean(elev_data), color='black', linestyle='--', \n",
    "           label=f'Mean: {np.nanmean(elev_data):.1f} m')\n",
    "ax.axvline(np.nanmedian(elev_data), color='black', linestyle=':', \n",
    "           label=f'Med: {np.nanmedian(elev_data):.1f} m')\n",
    "ax.set_title(\"Elevation\", fontsize=20)\n",
    "ax.set_xlabel(\"Elevation (m)\")\n",
    "ax.set_ylabel(\"Count\")\n",
    "ax.legend(fontsize=18)\n",
    "\n",
    "# Slope histogram\n",
    "ax = axs[1]\n",
    "ax.hist(slope_data, bins=256, color=viridis_mid, alpha=0.7)\n",
    "ax.axvline(np.nanmean(slope_data), color='black', linestyle='--',\n",
    "           label=f'Mean: {np.nanmean(slope_data):.1f}°')\n",
    "ax.axvline(np.nanmedian(slope_data), color='black', linestyle=':',\n",
    "           label=f'Med: {np.nanmedian(slope_data):.1f}°')\n",
    "ax.set_title(\"Slope\", fontsize=20)\n",
    "ax.set_xlabel(\"Slope (degrees)\")\n",
    "ax.set_ylabel(\"Count\")\n",
    "ax.legend(fontsize=18)\n",
    "\n",
    "# Aspect histogram\n",
    "ax = axs[2]\n",
    "ax.hist(aspect_data, bins=256, color=twilight_mid, alpha=0.7)\n",
    "ax.axvline(np.nanmean(aspect_data), color='black', linestyle='--',\n",
    "           label=f'Mean: {np.nanmean(aspect_data):.1f}°')\n",
    "ax.axvline(np.nanmedian(aspect_data), color='black', linestyle=':',\n",
    "           label=f'Med: {np.nanmedian(aspect_data):.1f}°')\n",
    "ax.set_title(\"Aspect\", fontsize=20)\n",
    "ax.set_xlabel(\"Aspect (degrees)\")\n",
    "ax.set_ylabel(\"Count\")\n",
    "ax.legend(fontsize=18);"
   ]
  },
  {
   "cell_type": "markdown",
   "metadata": {},
   "source": [
    "images/atl06_default_hillshade.png"
   ]
  },
  {
   "cell_type": "code",
   "execution_count": 17,
   "metadata": {},
   "outputs": [],
   "source": [
    "gf_atl06_points_utm = gf_atl06_points.to_crs(32610)"
   ]
  },
  {
   "cell_type": "code",
   "execution_count": null,
   "metadata": {},
   "outputs": [],
   "source": [
    "f, ax = plt.subplots(figsize=(12,5),\n",
    "                      layout='constrained')\n",
    "\n",
    "ds_dem.hillshade.plot.imshow(ax=ax,\n",
    "                            cmap=\"gray\",\n",
    "                            add_colorbar=False)\n",
    "gf_atl06_points_utm.plot(ax=ax, cmap='inferno',\n",
    "                         alpha=0.5,\n",
    "                         legend=True,\n",
    "                         column=\"h_mean\",\n",
    "                         legend_kwds={'label': \"Elevation (m)\"},\n",
    "                         markersize=5,\n",
    "                         edgecolor='white',\n",
    "                         linewidth=0.2,\n",
    "                         vmin=np.nanmin(ds_dem.elevation),\n",
    "                         vmax=np.nanmax(ds_dem.elevation))\n",
    "scalebar = ScaleBar(1, location='upper left')\n",
    "ax.add_artist(scalebar)\n",
    "ax.set_aspect('equal')\n",
    "ax.set(xticks=[], yticks=[], \n",
    "       xlabel=\"\", ylabel=\"\", \n",
    "       frame_on=False)   \n",
    "ax.set_title(\"ICESat-2 ATL06 h_mean\", fontsize=22);"
   ]
  },
  {
   "cell_type": "markdown",
   "metadata": {},
   "source": [
    "images/atl06_default_hillshade_zoom.png"
   ]
  },
  {
   "cell_type": "code",
   "execution_count": null,
   "metadata": {},
   "outputs": [],
   "source": [
    "f, ax = plt.subplots(figsize=(4,5), layout='constrained')\n",
    "\n",
    "bounds = gf_atl06_points_utm.total_bounds\n",
    "\n",
    "ds_dem.hillshade.plot.imshow(ax=ax,\n",
    "                            cmap=\"gray\",\n",
    "                            add_colorbar=False)\n",
    "\n",
    "gf_atl06_points_utm.plot(ax=ax, cmap='inferno',\n",
    "                         alpha=0.5,\n",
    "                         legend=False,\n",
    "                         column=\"h_mean\",\n",
    "                         markersize=5,\n",
    "                         edgecolor='white',\n",
    "                         linewidth=0.2,\n",
    "                         vmin=np.nanmin(ds_dem.elevation),\n",
    "                         vmax=np.nanmax(ds_dem.elevation))\n",
    "\n",
    "ax.set_xlim(bounds[0], bounds[2])\n",
    "ax.set_ylim(bounds[1], bounds[3])\n",
    "\n",
    "scalebar = ScaleBar(1, location='upper left')\n",
    "ax.add_artist(scalebar)\n",
    "ax.set_aspect('equal')\n",
    "ax.set(xticks=[], yticks=[],\n",
    "       xlabel=\"\", ylabel=\"\",\n",
    "       frame_on=False,\n",
    "       title=\"\");"
   ]
  },
  {
   "cell_type": "markdown",
   "metadata": {},
   "source": [
    "sample 3DEP elevations based on ATL06 footprints"
   ]
  },
  {
   "cell_type": "code",
   "execution_count": null,
   "metadata": {},
   "outputs": [
    {
     "name": "stderr",
     "output_type": "stream",
     "text": [
      "100%|██████████| 2490/2490 [16:33<00:00,  2.51it/s]\n"
     ]
    }
   ],
   "source": [
    "# Function to create a 40m x 40m square centered on a point (buffer of 20m)\n",
    "def create_square(pt, half_side=20):\n",
    "    return box(pt.x - half_side, pt.y - half_side, pt.x + half_side, pt.y + half_side)\n",
    "\n",
    "# Assuming gf_atl06_points_utm is your GeoDataFrame with point geometries and a column 'h_mean'\n",
    "# Create a new column 'bbox' with the square geometries\n",
    "gf_atl06_points_utm['bbox'] = gf_atl06_points_utm.geometry.apply(create_square)\n",
    "\n",
    "# List to hold average DEM elevation values for each bounding box\n",
    "dem_elev_avg = []\n",
    "\n",
    "# Loop over each bounding box in the geodataframe\n",
    "for geom in tqdm(gf_atl06_points_utm['bbox']):\n",
    "    # Get the bounds of the square: minx, miny, maxx, maxy\n",
    "    minx, miny, maxx, maxy = geom.bounds\n",
    "    \n",
    "    # Subset the ds_dem elevation using a where condition.\n",
    "    # Note: adjust coordinate names (e.g., 'x', 'y') as needed based on your dataset.\n",
    "    da_subset = ds_dem.elevation.where(\n",
    "        (ds_dem.x >= minx) & (ds_dem.x <= maxx) &\n",
    "        (ds_dem.y >= miny) & (ds_dem.y <= maxy),\n",
    "        drop=True\n",
    "    )\n",
    "    \n",
    "    # Calculate the mean elevation in the subset (averaging over intersecting 10x10 m cells)\n",
    "    avg_elev = np.nanmean(da_subset.values)\n",
    "    dem_elev_avg.append(avg_elev)\n",
    "\n",
    "# Save the DEM mean elevations into the geodataframe and compute the elevation difference\n",
    "gf_atl06_points_utm['dem_elev'] = dem_elev_avg\n",
    "gf_atl06_points_utm['elev_diff'] = gf_atl06_points_utm['h_mean'] - gf_atl06_points_utm['dem_elev']"
   ]
  },
  {
   "cell_type": "code",
   "execution_count": 22,
   "metadata": {},
   "outputs": [],
   "source": [
    "gf_atl06_bbox = gpd.GeoDataFrame(\n",
    "    geometry=[gf_atl06_points_utm.geometry.union_all().envelope], \n",
    "    crs=gf_atl06_points_utm.crs\n",
    ").to_crs(4326)"
   ]
  },
  {
   "cell_type": "code",
   "execution_count": 23,
   "metadata": {},
   "outputs": [],
   "source": [
    "import odc.stac\n",
    "import pystac_client\n",
    "import planetary_computer"
   ]
  },
  {
   "cell_type": "code",
   "execution_count": 24,
   "metadata": {},
   "outputs": [
    {
     "data": {
      "text/html": [
       "<div>\n",
       "<style scoped>\n",
       "    .dataframe tbody tr th:only-of-type {\n",
       "        vertical-align: middle;\n",
       "    }\n",
       "\n",
       "    .dataframe tbody tr th {\n",
       "        vertical-align: top;\n",
       "    }\n",
       "\n",
       "    .dataframe thead th {\n",
       "        text-align: right;\n",
       "    }\n",
       "</style>\n",
       "<table border=\"1\" class=\"dataframe\">\n",
       "  <thead>\n",
       "    <tr style=\"text-align: right;\">\n",
       "      <th></th>\n",
       "      <th>fid</th>\n",
       "      <th>minx</th>\n",
       "      <th>maxx</th>\n",
       "      <th>miny</th>\n",
       "      <th>maxy</th>\n",
       "      <th>workunit</th>\n",
       "      <th>workunit_id</th>\n",
       "      <th>project</th>\n",
       "      <th>project_id</th>\n",
       "      <th>start_datetime</th>\n",
       "      <th>...</th>\n",
       "      <th>lpc_link</th>\n",
       "      <th>sourcedem_link</th>\n",
       "      <th>metadata_link</th>\n",
       "      <th>collection</th>\n",
       "      <th>datetime</th>\n",
       "      <th>dayofyear</th>\n",
       "      <th>duration</th>\n",
       "      <th>tree_cover</th>\n",
       "      <th>granule_count_30d</th>\n",
       "      <th>geometry</th>\n",
       "    </tr>\n",
       "  </thead>\n",
       "  <tbody>\n",
       "    <tr>\n",
       "      <th>0</th>\n",
       "      <td>2801</td>\n",
       "      <td>-123.066093</td>\n",
       "      <td>-121.98262</td>\n",
       "      <td>44.002815</td>\n",
       "      <td>44.358067</td>\n",
       "      <td>OR_McKenzieRiver_1_2021</td>\n",
       "      <td>220421</td>\n",
       "      <td>OR_McKenzieRiver_2021_B21</td>\n",
       "      <td>220424</td>\n",
       "      <td>2021-07-04</td>\n",
       "      <td>...</td>\n",
       "      <td>https://rockyweb.usgs.gov/vdelivery/Datasets/S...</td>\n",
       "      <td>http://prd-tnm.s3.amazonaws.com/index.html?pre...</td>\n",
       "      <td>http://prd-tnm.s3.amazonaws.com/index.html?pre...</td>\n",
       "      <td>3DEP</td>\n",
       "      <td>2021-07-05</td>\n",
       "      <td>186</td>\n",
       "      <td>2</td>\n",
       "      <td>4185.5571</td>\n",
       "      <td>4</td>\n",
       "      <td>POLYGON ((-121.98262 44.00282, -121.98262 44.3...</td>\n",
       "    </tr>\n",
       "  </tbody>\n",
       "</table>\n",
       "<p>1 rows × 40 columns</p>\n",
       "</div>"
      ],
      "text/plain": [
       "    fid        minx       maxx       miny       maxy                 workunit  \\\n",
       "0  2801 -123.066093 -121.98262  44.002815  44.358067  OR_McKenzieRiver_1_2021   \n",
       "\n",
       "   workunit_id                    project  project_id start_datetime  ...  \\\n",
       "0       220421  OR_McKenzieRiver_2021_B21      220424     2021-07-04  ...   \n",
       "\n",
       "                                            lpc_link  \\\n",
       "0  https://rockyweb.usgs.gov/vdelivery/Datasets/S...   \n",
       "\n",
       "                                      sourcedem_link  \\\n",
       "0  http://prd-tnm.s3.amazonaws.com/index.html?pre...   \n",
       "\n",
       "                                       metadata_link collection   datetime  \\\n",
       "0  http://prd-tnm.s3.amazonaws.com/index.html?pre...       3DEP 2021-07-05   \n",
       "\n",
       "  dayofyear duration tree_cover granule_count_30d  \\\n",
       "0       186        2  4185.5571                 4   \n",
       "\n",
       "                                            geometry  \n",
       "0  POLYGON ((-121.98262 44.00282, -121.98262 44.3...  \n",
       "\n",
       "[1 rows x 40 columns]"
      ]
     },
     "execution_count": 24,
     "metadata": {},
     "output_type": "execute_result"
    }
   ],
   "source": [
    "aoi"
   ]
  },
  {
   "cell_type": "code",
   "execution_count": 25,
   "metadata": {},
   "outputs": [
    {
     "name": "stdout",
     "output_type": "stream",
     "text": [
      "Returned 48 Items\n"
     ]
    }
   ],
   "source": [
    "catalog = pystac_client.Client.open(\n",
    "    \"https://planetarycomputer.microsoft.com/api/stac/v1\",\n",
    "    modifier=planetary_computer.sign_inplace)\n",
    "search = catalog.search(\n",
    "        collections=[\"sentinel-2-l2a\"],\n",
    "        intersects=gf_atl06_bbox.geometry.item(),\n",
    "        datetime=f'2021-06-15/2021-07-15')\n",
    "items = search.item_collection()\n",
    "print(f\"Returned {len(items)} Items\")"
   ]
  },
  {
   "cell_type": "code",
   "execution_count": 26,
   "metadata": {},
   "outputs": [
    {
     "data": {
      "text/html": [
       "<div>\n",
       "<style scoped>\n",
       "    .dataframe tbody tr th:only-of-type {\n",
       "        vertical-align: middle;\n",
       "    }\n",
       "\n",
       "    .dataframe tbody tr th {\n",
       "        vertical-align: top;\n",
       "    }\n",
       "\n",
       "    .dataframe thead th {\n",
       "        text-align: right;\n",
       "    }\n",
       "</style>\n",
       "<table border=\"1\" class=\"dataframe\">\n",
       "  <thead>\n",
       "    <tr style=\"text-align: right;\">\n",
       "      <th></th>\n",
       "      <th>geometry</th>\n",
       "    </tr>\n",
       "  </thead>\n",
       "  <tbody>\n",
       "    <tr>\n",
       "      <th>0</th>\n",
       "      <td>POLYGON ((-123.03459 44.01024, -122.67599 44.0...</td>\n",
       "    </tr>\n",
       "  </tbody>\n",
       "</table>\n",
       "</div>"
      ],
      "text/plain": [
       "                                            geometry\n",
       "0  POLYGON ((-123.03459 44.01024, -122.67599 44.0..."
      ]
     },
     "execution_count": 26,
     "metadata": {},
     "output_type": "execute_result"
    }
   ],
   "source": [
    "gf_atl06_bbox"
   ]
  },
  {
   "cell_type": "code",
   "execution_count": null,
   "metadata": {},
   "outputs": [
    {
     "name": "stdout",
     "output_type": "stream",
     "text": [
      "Selected image datetime: 2021-06-26 18:59:19.024000+00:00\n"
     ]
    },
    {
     "name": "stderr",
     "output_type": "stream",
     "text": [
      "/home/jehayes/mambaforge/envs/coincident/lib/python3.12/site-packages/rasterio/warp.py:344: NotGeoreferencedWarning: Dataset has no geotransform, gcps, or rpcs. The identity matrix will be returned.\n",
      "  _reproject(\n"
     ]
    }
   ],
   "source": [
    "# isolate the image with the lowest cloud cover percentage\n",
    "# not sure if output_crs should just be 7912 or 4326->reproject\n",
    "sentinel2_stac = odc.stac.load(items,chunks={\"x\": 2048, \"y\": 2048},\n",
    "                               resolution=20, groupby='solar_day')\n",
    "minx, miny, maxx, maxy = gf_atl06_bbox.geometry.iloc[0].bounds\n",
    "sentinel2_stac_clipped = sentinel2_stac.rio.clip_box(minx, miny, maxx, maxy, \n",
    "                                                     crs=\"EPSG:4326\")\n",
    "scl = sentinel2_stac_clipped[\"SCL\"]\n",
    "cloud_classes = [8, 9, 10]\n",
    "idx_least_clouds = scl.where(~scl.isin(cloud_classes)).sum(dim=['x','y']).idxmax()\n",
    "sentinel2_best = sentinel2_stac_clipped.sel(time=idx_least_clouds)\n",
    "cloud_coverage = [item.properties.get('eo:cloud_cover', 100) for item in items]\n",
    "best_idx = np.argmin(cloud_coverage)\n",
    "best_datetime = items[best_idx].datetime\n",
    "print(f\"Selected image datetime: {best_datetime}\")"
   ]
  },
  {
   "cell_type": "code",
   "execution_count": 28,
   "metadata": {},
   "outputs": [],
   "source": [
    "# stack the RGB bands\n",
    "rgb = np.dstack([\n",
    "    sentinel2_best.B04.compute(),\n",
    "    sentinel2_best.B03.compute(),\n",
    "    sentinel2_best.B02.compute()\n",
    "])\n",
    "rgb_norm = (rgb - np.nanmin(rgb)) / (np.nanmax(rgb) - np.nanmin(rgb))\n",
    "# and brighten the image so it's easier to visually interpret\n",
    "gamma = 0.5  \n",
    "rgb_bright = np.power(rgb_norm, gamma)"
   ]
  },
  {
   "cell_type": "code",
   "execution_count": 29,
   "metadata": {},
   "outputs": [],
   "source": [
    "# and turn into an xarray da with CRS information\n",
    "da_rgb = xr.DataArray(\n",
    "    np.moveaxis(rgb_bright, -1, 0),  # move band dimension to front\n",
    "    dims=['band', 'y', 'x'],\n",
    "    coords={\n",
    "        'band': ['red', 'green', 'blue'],\n",
    "        'y': sentinel2_best.y,\n",
    "        'x': sentinel2_best.x\n",
    "    }\n",
    ").rio.write_crs(sentinel2_best.rio.crs)"
   ]
  },
  {
   "cell_type": "code",
   "execution_count": 32,
   "metadata": {},
   "outputs": [],
   "source": [
    "nlcd_landcover = esd.remote_sensing.get_nlcd_landcover(gf_atl06_bbox.iloc[0].geometry.buffer(.15), layer='landcover')\n",
    "da_nlcd = nlcd_landcover.rio.reproject(32610)"
   ]
  },
  {
   "cell_type": "markdown",
   "metadata": {},
   "source": [
    "images/atl06_diff_hillshade_zoom.png"
   ]
  },
  {
   "cell_type": "code",
   "execution_count": null,
   "metadata": {},
   "outputs": [],
   "source": [
    "f, ax = plt.subplots(figsize=(6,5), layout='constrained')\n",
    "\n",
    "bounds = gf_atl06_points_utm.total_bounds\n",
    "\n",
    "ds_dem.hillshade.plot.imshow(ax=ax,\n",
    "                            cmap=\"gray\",\n",
    "                            add_colorbar=False)\n",
    "\n",
    "gf_atl06_points_utm.plot(ax=ax, cmap='RdBu',\n",
    "                         alpha=0.5,\n",
    "                         legend=True,\n",
    "                         column=\"elev_diff\",\n",
    "                         markersize=5,\n",
    "                         edgecolor='white',\n",
    "                         linewidth=0.2,\n",
    "                         vmin=-5,\n",
    "                         vmax=5,\n",
    "                         legend_kwds={'label': 'Elevation Difference (m)'})\n",
    "\n",
    "ax.set_xlim(bounds[0], bounds[2])\n",
    "ax.set_ylim(bounds[1], bounds[3])\n",
    "\n",
    "scalebar = ScaleBar(1, location='upper left')\n",
    "ax.add_artist(scalebar)\n",
    "ax.set_aspect('equal')\n",
    "ax.set(xticks=[], yticks=[],\n",
    "       xlabel=\"\", ylabel=\"\",\n",
    "       frame_on=False,\n",
    "       title=\"\");"
   ]
  },
  {
   "cell_type": "markdown",
   "metadata": {},
   "source": [
    "images/aoi_nlcd_rgb.png"
   ]
  },
  {
   "cell_type": "code",
   "execution_count": null,
   "metadata": {},
   "outputs": [],
   "source": [
    "f, axs = plt.subplots(1,2, figsize=(8,7),\n",
    "                      layout='constrained')\n",
    "\n",
    "# Sentinel-2\n",
    "ax=axs[0]\n",
    "da_rgb.plot.imshow(ax=ax)\n",
    "ax.set_title(\"Sentinel-2 Brightened RGB\")\n",
    "\n",
    "# NLCD landcover\n",
    "ax = axs[1]\n",
    "\n",
    "# Create a proper categorical colormap\n",
    "present_classes = np.unique(da_nlcd.values[~np.isnan(da_nlcd.values)])\n",
    "present_classes = present_classes[present_classes != 255]\n",
    "\n",
    "# Create a colormap using only the present classes\n",
    "cmap = mcolors.ListedColormap([nlcd_colors[int(i)] for i in present_classes])\n",
    "norm = mcolors.BoundaryNorm(present_classes, len(present_classes))\n",
    "\n",
    "# Plot with the norm parameter to ensure proper color mapping\n",
    "da_nlcd.plot.imshow(ax=ax,\n",
    "                    cmap=cmap,\n",
    "                    norm=norm,\n",
    "                    add_colorbar=False)\n",
    "\n",
    "# Create legend for present classes\n",
    "legend_handles = [\n",
    "    mpatches.Patch(\n",
    "        color=nlcd_colors[int(key)],\n",
    "        label=nlcd_labels[int(key)]\n",
    "    )\n",
    "    for key in present_classes\n",
    "]\n",
    "\n",
    "\n",
    "f.legend(\n",
    "    handles=legend_handles,\n",
    "    bbox_to_anchor=(0.5, 0.2),\n",
    "    loc='upper center',\n",
    "    ncol=3,\n",
    "    frameon=False,\n",
    "    fontsize=10\n",
    ")\n",
    "ax.set_title(\"NLCD Land Cover\")\n",
    "\n",
    "for ax in axs:\n",
    "    gf_wesm.to_crs(32610).plot(ax=ax, facecolor='none', edgecolor='deeppink', linewidth=1)\n",
    "    gf_atl06_points_utm.plot(ax=ax, color='k', markersize=5,\n",
    "                            alpha=0.01)\n",
    "    ax.set_aspect('equal')\n",
    "    ax.set(xticks=[], yticks=[], \n",
    "            xlabel=\"\", ylabel=\"\", \n",
    "            frame_on=False)\n",
    "    ax.set_xlim(bounds[0], bounds[2])\n",
    "    ax.set_ylim(bounds[1], bounds[3]);"
   ]
  }
 ],
 "metadata": {
  "kernelspec": {
   "display_name": "coincident",
   "language": "python",
   "name": "python3"
  },
  "language_info": {
   "codemirror_mode": {
    "name": "ipython",
    "version": 3
   },
   "file_extension": ".py",
   "mimetype": "text/x-python",
   "name": "python",
   "nbconvert_exporter": "python",
   "pygments_lexer": "ipython3",
   "version": "3.12.5"
  }
 },
 "nbformat": 4,
 "nbformat_minor": 2
}
